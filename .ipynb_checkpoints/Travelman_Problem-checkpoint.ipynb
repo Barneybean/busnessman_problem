{
 "cells": [
  {
   "cell_type": "code",
   "execution_count": 71,
   "metadata": {},
   "outputs": [],
   "source": [
    "!pip install -q geopy"
   ]
  },
  {
   "cell_type": "code",
   "execution_count": 1,
   "metadata": {},
   "outputs": [],
   "source": [
    "import pandas as pd \n",
    "import time \n",
    "#geocode cities \n",
    "from geopy.geocoders import Nominatim\n",
    "\n",
    "#to get combination\n",
    "from itertools import product\n",
    "\n",
    "#straight line distance conversion \n",
    "import math\n",
    "from math import sin, cos, sqrt, atan2, radians\n",
    "import numpy as np\n"
   ]
  },
  {
   "cell_type": "code",
   "execution_count": 125,
   "metadata": {},
   "outputs": [],
   "source": [
    "capital_dic={\n",
    "    'Alabama': 'Montgomery',\n",
    "    'Alaska': 'Juneau',\n",
    "    'Arizona':'Phoenix',\n",
    "    'Arkansas':'Little Rock',\n",
    "    'California': 'Sacramento',\n",
    "    'Colorado':'Denver',\n",
    "    'Connecticut':'Hartford',\n",
    "    'Delaware':'Dover',\n",
    "    'Florida': 'Tallahassee',\n",
    "    'Georgia': 'Atlanta',\n",
    "    'Hawaii': 'Honolulu',\n",
    "    'Idaho': 'Boise',\n",
    "    'Illinios': 'Springfield',\n",
    "    'Indiana': 'Indianapolis',\n",
    "    'Iowa': 'Des Monies',\n",
    "    'Kansas': 'Topeka',\n",
    "    'Kentucky': 'Frankfort',\n",
    "    'Louisiana': 'Baton Rouge',\n",
    "    'Maine': 'Augusta',\n",
    "    'Maryland': 'Annapolis',\n",
    "    'Massachusetts': 'Boston',\n",
    "    'Michigan': 'Lansing',\n",
    "    'Minnesota': 'St. Paul',\n",
    "    'Mississippi': 'Jackson',\n",
    "    'Missouri': 'Jefferson City',\n",
    "    'Montana': 'Helena',\n",
    "    'Nebraska': 'Lincoln',\n",
    "    'Neveda': 'Carson City',\n",
    "    'New Hampshire': 'Concord',\n",
    "    'New Jersey': 'Trenton',\n",
    "    'New Mexico': 'Santa Fe',\n",
    "    'New York': 'Albany',\n",
    "    'North Carolina': 'Raleigh',\n",
    "    'North Dakota': 'Bismarck',\n",
    "    'Ohio': 'Columbus',\n",
    "    'Oklahoma': 'Oklahoma City',\n",
    "    'Oregon': 'Salem',\n",
    "    'Pennsylvania': 'Harrisburg',\n",
    "    'Rhoda Island': 'Providence',\n",
    "    'South Carolina': 'Columbia',\n",
    "    'South Dakoda': 'Pierre',\n",
    "    'Tennessee': 'Nashville',\n",
    "    'Texas': 'Austin',\n",
    "    'Utah': 'Salt Lake City',\n",
    "    'Vermont': 'Montpelier',\n",
    "    'Virginia': 'Richmond',\n",
    "    'Washington': 'Olympia',\n",
    "    'West Virginia': 'Charleston',\n",
    "    'Wisconsin': 'Madison',\n",
    "    'Wyoming': 'Cheyenne'  \n",
    "} # create a dictionary, key is the state and value is the capital\n",
    "\n",
    "capitals = pd.DataFrame.from_dict(capital_dic, orient='index', columns=[\"capital\"])\n"
   ]
  },
  {
   "cell_type": "code",
   "execution_count": 126,
   "metadata": {},
   "outputs": [],
   "source": [
    "capitals[\"state\"] = capitals.index\n",
    "capitals[\"forsearch\"] = capitals[['capital', 'state']].apply(lambda x: ' '.join(x), axis=1)"
   ]
  },
  {
   "cell_type": "code",
   "execution_count": 127,
   "metadata": {},
   "outputs": [
    {
     "data": {
      "text/html": [
       "<div>\n",
       "<style scoped>\n",
       "    .dataframe tbody tr th:only-of-type {\n",
       "        vertical-align: middle;\n",
       "    }\n",
       "\n",
       "    .dataframe tbody tr th {\n",
       "        vertical-align: top;\n",
       "    }\n",
       "\n",
       "    .dataframe thead th {\n",
       "        text-align: right;\n",
       "    }\n",
       "</style>\n",
       "<table border=\"1\" class=\"dataframe\">\n",
       "  <thead>\n",
       "    <tr style=\"text-align: right;\">\n",
       "      <th></th>\n",
       "      <th>capital</th>\n",
       "      <th>state</th>\n",
       "      <th>forsearch</th>\n",
       "    </tr>\n",
       "  </thead>\n",
       "  <tbody>\n",
       "    <tr>\n",
       "      <th>Alabama</th>\n",
       "      <td>Montgomery</td>\n",
       "      <td>Alabama</td>\n",
       "      <td>Montgomery Alabama</td>\n",
       "    </tr>\n",
       "    <tr>\n",
       "      <th>Alaska</th>\n",
       "      <td>Juneau</td>\n",
       "      <td>Alaska</td>\n",
       "      <td>Juneau Alaska</td>\n",
       "    </tr>\n",
       "    <tr>\n",
       "      <th>Arizona</th>\n",
       "      <td>Phoenix</td>\n",
       "      <td>Arizona</td>\n",
       "      <td>Phoenix Arizona</td>\n",
       "    </tr>\n",
       "    <tr>\n",
       "      <th>Arkansas</th>\n",
       "      <td>Little Rock</td>\n",
       "      <td>Arkansas</td>\n",
       "      <td>Little Rock Arkansas</td>\n",
       "    </tr>\n",
       "    <tr>\n",
       "      <th>California</th>\n",
       "      <td>Sacramento</td>\n",
       "      <td>California</td>\n",
       "      <td>Sacramento California</td>\n",
       "    </tr>\n",
       "  </tbody>\n",
       "</table>\n",
       "</div>"
      ],
      "text/plain": [
       "                capital       state              forsearch\n",
       "Alabama      Montgomery     Alabama     Montgomery Alabama\n",
       "Alaska           Juneau      Alaska          Juneau Alaska\n",
       "Arizona         Phoenix     Arizona        Phoenix Arizona\n",
       "Arkansas    Little Rock    Arkansas   Little Rock Arkansas\n",
       "California   Sacramento  California  Sacramento California"
      ]
     },
     "execution_count": 127,
     "metadata": {},
     "output_type": "execute_result"
    }
   ],
   "source": [
    "capitals.head()"
   ]
  },
  {
   "cell_type": "code",
   "execution_count": 123,
   "metadata": {},
   "outputs": [],
   "source": [
    "def get_geocode(city):\n",
    "    geolocator = Nominatim(user_agent='myapplication')\n",
    "    location = geolocator.geocode(city)\n",
    "    lat = location.raw[\"lat\"]\n",
    "    lon = location.raw[\"lon\"]\n",
    "    return lat+\" \"+lon"
   ]
  },
  {
   "cell_type": "code",
   "execution_count": 124,
   "metadata": {},
   "outputs": [],
   "source": [
    "data1 = capitals[0:10]\n",
    "data2 = capitals[10:20]\n",
    "data3 = capitals[20:30]\n",
    "data4 = capitals[30:40]\n",
    "data5 = capitals[40:50]\n",
    "data_arr = [data1[\"forsearch\"], data2[\"forsearch\"], data3[\"forsearch\"], data4[\"forsearch\"], data5[\"forsearch\"]]\n"
   ]
  },
  {
   "cell_type": "code",
   "execution_count": 125,
   "metadata": {},
   "outputs": [],
   "source": [
    "geo_arr = []\n",
    "\n",
    "for sub in data_arr:   \n",
    "    for x in sub:\n",
    "        try:  \n",
    "            geo_arr.append(get_geocode(x))\n",
    "            time.sleep(1)\n",
    "        except:\n",
    "            geo_arr.append(\"na\")\n",
    "            time.sleep(1)"
   ]
  },
  {
   "cell_type": "code",
   "execution_count": 126,
   "metadata": {},
   "outputs": [
    {
     "data": {
      "text/plain": [
       "50"
      ]
     },
     "execution_count": 126,
     "metadata": {},
     "output_type": "execute_result"
    }
   ],
   "source": [
    "len(geo_arr)"
   ]
  },
  {
   "cell_type": "code",
   "execution_count": 128,
   "metadata": {},
   "outputs": [],
   "source": [
    "capitals[\"geocode\"] = geo_arr\n",
    "capitals.to_csv(\"geocoded_capital.csv\", index = False)\n"
   ]
  },
  {
   "cell_type": "markdown",
   "metadata": {},
   "source": [
    "### In Excel, we process the missing geocodes and standardize geocodes as well "
   ]
  },
  {
   "cell_type": "code",
   "execution_count": 130,
   "metadata": {},
   "outputs": [
    {
     "data": {
      "text/html": [
       "<div>\n",
       "<style scoped>\n",
       "    .dataframe tbody tr th:only-of-type {\n",
       "        vertical-align: middle;\n",
       "    }\n",
       "\n",
       "    .dataframe tbody tr th {\n",
       "        vertical-align: top;\n",
       "    }\n",
       "\n",
       "    .dataframe thead th {\n",
       "        text-align: right;\n",
       "    }\n",
       "</style>\n",
       "<table border=\"1\" class=\"dataframe\">\n",
       "  <thead>\n",
       "    <tr style=\"text-align: right;\">\n",
       "      <th></th>\n",
       "      <th>capital</th>\n",
       "      <th>state</th>\n",
       "      <th>lat</th>\n",
       "      <th>lon</th>\n",
       "    </tr>\n",
       "  </thead>\n",
       "  <tbody>\n",
       "    <tr>\n",
       "      <th>0</th>\n",
       "      <td>Montgomery</td>\n",
       "      <td>Alabama</td>\n",
       "      <td>32.366966</td>\n",
       "      <td>-86.300648</td>\n",
       "    </tr>\n",
       "    <tr>\n",
       "      <th>1</th>\n",
       "      <td>Juneau</td>\n",
       "      <td>Alaska</td>\n",
       "      <td>58.301950</td>\n",
       "      <td>-134.419734</td>\n",
       "    </tr>\n",
       "  </tbody>\n",
       "</table>\n",
       "</div>"
      ],
      "text/plain": [
       "      capital    state        lat         lon\n",
       "0  Montgomery  Alabama  32.366966  -86.300648\n",
       "1      Juneau   Alaska  58.301950 -134.419734"
      ]
     },
     "execution_count": 130,
     "metadata": {},
     "output_type": "execute_result"
    }
   ],
   "source": [
    "capitals_geo = pd.read_csv(\"geocoded_capital.csv\"); capitals_geo.head(2)"
   ]
  },
  {
   "cell_type": "markdown",
   "metadata": {},
   "source": [
    "### get distance between any two capitals"
   ]
  },
  {
   "cell_type": "code",
   "execution_count": 147,
   "metadata": {},
   "outputs": [
    {
     "data": {
      "text/plain": [
       "['Montgomery,Alabama,32.3669656,-86.3006485',\n",
       " 'Juneau,Alaska,58.30194960000001,-134.419734']"
      ]
     },
     "execution_count": 147,
     "metadata": {},
     "output_type": "execute_result"
    }
   ],
   "source": [
    "#to get combination of cities, join all text and ...\n",
    "capitals_geo[\"lat\"] = capitals_geo[\"lat\"].astype(str)\n",
    "capitals_geo[\"lon\"] = capitals_geo[\"lon\"].astype(str)\n",
    "\n",
    "combination = list(capitals_geo[['capital', 'state', \"lat\", \"lon\"]].apply(lambda x: ','.join(x), axis=1))\n",
    "# combination_df = pd.DataFrame({\"text\": combination})\n",
    "combination[0:2]"
   ]
  },
  {
   "cell_type": "code",
   "execution_count": 149,
   "metadata": {},
   "outputs": [
    {
     "data": {
      "text/html": [
       "<div>\n",
       "<style scoped>\n",
       "    .dataframe tbody tr th:only-of-type {\n",
       "        vertical-align: middle;\n",
       "    }\n",
       "\n",
       "    .dataframe tbody tr th {\n",
       "        vertical-align: top;\n",
       "    }\n",
       "\n",
       "    .dataframe thead th {\n",
       "        text-align: right;\n",
       "    }\n",
       "</style>\n",
       "<table border=\"1\" class=\"dataframe\">\n",
       "  <thead>\n",
       "    <tr style=\"text-align: right;\">\n",
       "      <th></th>\n",
       "      <th>origin</th>\n",
       "      <th>destination</th>\n",
       "    </tr>\n",
       "  </thead>\n",
       "  <tbody>\n",
       "    <tr>\n",
       "      <th>0</th>\n",
       "      <td>Montgomery,Alabama,32.3669656,-86.3006485</td>\n",
       "      <td>Montgomery,Alabama,32.3669656,-86.3006485</td>\n",
       "    </tr>\n",
       "    <tr>\n",
       "      <th>1</th>\n",
       "      <td>Montgomery,Alabama,32.3669656,-86.3006485</td>\n",
       "      <td>Juneau,Alaska,58.30194960000001,-134.419734</td>\n",
       "    </tr>\n",
       "    <tr>\n",
       "      <th>2</th>\n",
       "      <td>Montgomery,Alabama,32.3669656,-86.3006485</td>\n",
       "      <td>Phoenix,Arizona,33.448586600000006,-112.0773456</td>\n",
       "    </tr>\n",
       "    <tr>\n",
       "      <th>3</th>\n",
       "      <td>Montgomery,Alabama,32.3669656,-86.3006485</td>\n",
       "      <td>Little Rock,Arkansas,34.7464809,-92.2895948</td>\n",
       "    </tr>\n",
       "    <tr>\n",
       "      <th>4</th>\n",
       "      <td>Montgomery,Alabama,32.3669656,-86.3006485</td>\n",
       "      <td>Sacramento,California,38.5815719,-121.49439960...</td>\n",
       "    </tr>\n",
       "  </tbody>\n",
       "</table>\n",
       "</div>"
      ],
      "text/plain": [
       "                                      origin  \\\n",
       "0  Montgomery,Alabama,32.3669656,-86.3006485   \n",
       "1  Montgomery,Alabama,32.3669656,-86.3006485   \n",
       "2  Montgomery,Alabama,32.3669656,-86.3006485   \n",
       "3  Montgomery,Alabama,32.3669656,-86.3006485   \n",
       "4  Montgomery,Alabama,32.3669656,-86.3006485   \n",
       "\n",
       "                                         destination  \n",
       "0          Montgomery,Alabama,32.3669656,-86.3006485  \n",
       "1        Juneau,Alaska,58.30194960000001,-134.419734  \n",
       "2    Phoenix,Arizona,33.448586600000006,-112.0773456  \n",
       "3        Little Rock,Arkansas,34.7464809,-92.2895948  \n",
       "4  Sacramento,California,38.5815719,-121.49439960...  "
      ]
     },
     "execution_count": 149,
     "metadata": {},
     "output_type": "execute_result"
    }
   ],
   "source": [
    "df = pd.DataFrame(data=list(product(combination, combination)), columns=['origin','destination'])\n",
    "df.head(5)"
   ]
  },
  {
   "cell_type": "code",
   "execution_count": 150,
   "metadata": {},
   "outputs": [],
   "source": [
    "df.to_csv(\"combination.csv\", index=False)"
   ]
  },
  {
   "cell_type": "markdown",
   "metadata": {},
   "source": [
    "### calculate straght Distance"
   ]
  },
  {
   "cell_type": "code",
   "execution_count": 110,
   "metadata": {},
   "outputs": [
    {
     "name": "stdout",
     "output_type": "stream",
     "text": [
      "(2450, 8)\n"
     ]
    },
    {
     "data": {
      "text/html": [
       "<div>\n",
       "<style scoped>\n",
       "    .dataframe tbody tr th:only-of-type {\n",
       "        vertical-align: middle;\n",
       "    }\n",
       "\n",
       "    .dataframe tbody tr th {\n",
       "        vertical-align: top;\n",
       "    }\n",
       "\n",
       "    .dataframe thead th {\n",
       "        text-align: right;\n",
       "    }\n",
       "</style>\n",
       "<table border=\"1\" class=\"dataframe\">\n",
       "  <thead>\n",
       "    <tr style=\"text-align: right;\">\n",
       "      <th></th>\n",
       "      <th>origin_city</th>\n",
       "      <th>origin_state</th>\n",
       "      <th>origin_lat</th>\n",
       "      <th>origin_lon</th>\n",
       "      <th>destination_city</th>\n",
       "      <th>destination_state</th>\n",
       "      <th>destination_lat</th>\n",
       "      <th>destination_lon</th>\n",
       "    </tr>\n",
       "  </thead>\n",
       "  <tbody>\n",
       "    <tr>\n",
       "      <th>0</th>\n",
       "      <td>Montgomery</td>\n",
       "      <td>Alabama</td>\n",
       "      <td>32.366966</td>\n",
       "      <td>-86.300648</td>\n",
       "      <td>Juneau</td>\n",
       "      <td>Alaska</td>\n",
       "      <td>58.301950</td>\n",
       "      <td>-134.419734</td>\n",
       "    </tr>\n",
       "    <tr>\n",
       "      <th>1</th>\n",
       "      <td>Montgomery</td>\n",
       "      <td>Alabama</td>\n",
       "      <td>32.366966</td>\n",
       "      <td>-86.300648</td>\n",
       "      <td>Phoenix</td>\n",
       "      <td>Arizona</td>\n",
       "      <td>33.448587</td>\n",
       "      <td>-112.077346</td>\n",
       "    </tr>\n",
       "  </tbody>\n",
       "</table>\n",
       "</div>"
      ],
      "text/plain": [
       "  origin_city origin_state  origin_lat  origin_lon destination_city  \\\n",
       "0  Montgomery      Alabama   32.366966  -86.300648           Juneau   \n",
       "1  Montgomery      Alabama   32.366966  -86.300648          Phoenix   \n",
       "\n",
       "  destination_state  destination_lat  destination_lon  \n",
       "0            Alaska        58.301950      -134.419734  \n",
       "1           Arizona        33.448587      -112.077346  "
      ]
     },
     "execution_count": 110,
     "metadata": {},
     "output_type": "execute_result"
    }
   ],
   "source": [
    "distances = pd.read_csv(\"combination.csv\") \n",
    "print(distances.shape)\n",
    "distances.head(2)"
   ]
  },
  {
   "cell_type": "code",
   "execution_count": 111,
   "metadata": {},
   "outputs": [],
   "source": [
    "distances[\"lat1\"]=np.radians(distances[\"origin_lat\"])\n",
    "# approximate radius of earth in km\n",
    "R = 6373.0*0.621371\n",
    "\n",
    "distances[\"lat1\"] = np.radians(distances[\"origin_lat\"])\n",
    "distances[\"lon1\"] = np.radians(distances[\"origin_lon\"])\n",
    "distances[\"lat2\"] = np.radians(distances[\"destination_lat\"])\n",
    "distances[\"lon2\"] = np.radians(distances[\"destination_lon\"])\n",
    "\n",
    "distances[\"dlon\"] = distances[\"lon2\"] - distances[\"lon1\"]\n",
    "distances[\"dlat\"] = distances[\"lat2\"] - distances[\"lat1\"]\n",
    "\n",
    "distances[\"a\"] = np.sin(distances[\"dlat\"] / 2)**2 + np.cos(distances[\"lat1\"]) * np.cos(distances[\"lat2\"]) * np.sin(distances[\"dlon\"] / 2)**2\n",
    "distances[\"c\"] = 2 * np.arctan2(np.sqrt(distances[\"a\"]), np.sqrt(1 - distances[\"a\"]))\n",
    "distances[\"distance_mile\"] = R * distances[\"c\"]\n"
   ]
  },
  {
   "cell_type": "code",
   "execution_count": 112,
   "metadata": {},
   "outputs": [
    {
     "data": {
      "text/html": [
       "<div>\n",
       "<style scoped>\n",
       "    .dataframe tbody tr th:only-of-type {\n",
       "        vertical-align: middle;\n",
       "    }\n",
       "\n",
       "    .dataframe tbody tr th {\n",
       "        vertical-align: top;\n",
       "    }\n",
       "\n",
       "    .dataframe thead th {\n",
       "        text-align: right;\n",
       "    }\n",
       "</style>\n",
       "<table border=\"1\" class=\"dataframe\">\n",
       "  <thead>\n",
       "    <tr style=\"text-align: right;\">\n",
       "      <th></th>\n",
       "      <th>origin_city</th>\n",
       "      <th>origin_state</th>\n",
       "      <th>origin_lat</th>\n",
       "      <th>origin_lon</th>\n",
       "      <th>destination_city</th>\n",
       "      <th>destination_state</th>\n",
       "      <th>destination_lat</th>\n",
       "      <th>destination_lon</th>\n",
       "      <th>distance_mile</th>\n",
       "    </tr>\n",
       "  </thead>\n",
       "  <tbody>\n",
       "    <tr>\n",
       "      <th>0</th>\n",
       "      <td>Montgomery</td>\n",
       "      <td>Alabama</td>\n",
       "      <td>32.366966</td>\n",
       "      <td>-86.300648</td>\n",
       "      <td>Juneau</td>\n",
       "      <td>Alaska</td>\n",
       "      <td>58.301950</td>\n",
       "      <td>-134.419734</td>\n",
       "      <td>2851.459408</td>\n",
       "    </tr>\n",
       "    <tr>\n",
       "      <th>1</th>\n",
       "      <td>Montgomery</td>\n",
       "      <td>Alabama</td>\n",
       "      <td>32.366966</td>\n",
       "      <td>-86.300648</td>\n",
       "      <td>Phoenix</td>\n",
       "      <td>Arizona</td>\n",
       "      <td>33.448587</td>\n",
       "      <td>-112.077346</td>\n",
       "      <td>1493.746102</td>\n",
       "    </tr>\n",
       "    <tr>\n",
       "      <th>2</th>\n",
       "      <td>Montgomery</td>\n",
       "      <td>Alabama</td>\n",
       "      <td>32.366966</td>\n",
       "      <td>-86.300648</td>\n",
       "      <td>Little Rock</td>\n",
       "      <td>Arkansas</td>\n",
       "      <td>34.746481</td>\n",
       "      <td>-92.289595</td>\n",
       "      <td>382.045028</td>\n",
       "    </tr>\n",
       "    <tr>\n",
       "      <th>3</th>\n",
       "      <td>Montgomery</td>\n",
       "      <td>Alabama</td>\n",
       "      <td>32.366966</td>\n",
       "      <td>-86.300648</td>\n",
       "      <td>Sacramento</td>\n",
       "      <td>California</td>\n",
       "      <td>38.581572</td>\n",
       "      <td>-121.494400</td>\n",
       "      <td>2014.022091</td>\n",
       "    </tr>\n",
       "    <tr>\n",
       "      <th>4</th>\n",
       "      <td>Montgomery</td>\n",
       "      <td>Alabama</td>\n",
       "      <td>32.366966</td>\n",
       "      <td>-86.300648</td>\n",
       "      <td>Denver</td>\n",
       "      <td>Colorado</td>\n",
       "      <td>39.739236</td>\n",
       "      <td>-104.984862</td>\n",
       "      <td>1158.599319</td>\n",
       "    </tr>\n",
       "  </tbody>\n",
       "</table>\n",
       "</div>"
      ],
      "text/plain": [
       "  origin_city origin_state  origin_lat  origin_lon destination_city  \\\n",
       "0  Montgomery      Alabama   32.366966  -86.300648           Juneau   \n",
       "1  Montgomery      Alabama   32.366966  -86.300648          Phoenix   \n",
       "2  Montgomery      Alabama   32.366966  -86.300648      Little Rock   \n",
       "3  Montgomery      Alabama   32.366966  -86.300648       Sacramento   \n",
       "4  Montgomery      Alabama   32.366966  -86.300648           Denver   \n",
       "\n",
       "  destination_state  destination_lat  destination_lon  distance_mile  \n",
       "0            Alaska        58.301950      -134.419734    2851.459408  \n",
       "1           Arizona        33.448587      -112.077346    1493.746102  \n",
       "2          Arkansas        34.746481       -92.289595     382.045028  \n",
       "3        California        38.581572      -121.494400    2014.022091  \n",
       "4          Colorado        39.739236      -104.984862    1158.599319  "
      ]
     },
     "execution_count": 112,
     "metadata": {},
     "output_type": "execute_result"
    }
   ],
   "source": [
    "distances.drop([\"lat1\", \"lon1\", \"lat2\", \"lon2\", \"dlon\", \"dlat\", \"a\", \"c\"], axis=1, inplace=True)\n",
    "distances.head()"
   ]
  },
  {
   "cell_type": "code",
   "execution_count": 113,
   "metadata": {},
   "outputs": [
    {
     "name": "stdout",
     "output_type": "stream",
     "text": [
      "(2450, 9)\n"
     ]
    },
    {
     "data": {
      "text/html": [
       "<div>\n",
       "<style scoped>\n",
       "    .dataframe tbody tr th:only-of-type {\n",
       "        vertical-align: middle;\n",
       "    }\n",
       "\n",
       "    .dataframe tbody tr th {\n",
       "        vertical-align: top;\n",
       "    }\n",
       "\n",
       "    .dataframe thead th {\n",
       "        text-align: right;\n",
       "    }\n",
       "</style>\n",
       "<table border=\"1\" class=\"dataframe\">\n",
       "  <thead>\n",
       "    <tr style=\"text-align: right;\">\n",
       "      <th></th>\n",
       "      <th>origin_city</th>\n",
       "      <th>origin_state</th>\n",
       "      <th>origin_lat</th>\n",
       "      <th>origin_lon</th>\n",
       "      <th>destination_city</th>\n",
       "      <th>destination_state</th>\n",
       "      <th>destination_lat</th>\n",
       "      <th>destination_lon</th>\n",
       "      <th>distance_mile</th>\n",
       "    </tr>\n",
       "  </thead>\n",
       "  <tbody>\n",
       "    <tr>\n",
       "      <th>244</th>\n",
       "      <td>Sacramento</td>\n",
       "      <td>California</td>\n",
       "      <td>38.581572</td>\n",
       "      <td>-121.494400</td>\n",
       "      <td>Cheyenne</td>\n",
       "      <td>Wyoming</td>\n",
       "      <td>38.040803</td>\n",
       "      <td>-121.336657</td>\n",
       "      <td>38.341730</td>\n",
       "    </tr>\n",
       "    <tr>\n",
       "      <th>2405</th>\n",
       "      <td>Cheyenne</td>\n",
       "      <td>Wyoming</td>\n",
       "      <td>38.040803</td>\n",
       "      <td>-121.336657</td>\n",
       "      <td>Sacramento</td>\n",
       "      <td>California</td>\n",
       "      <td>38.581572</td>\n",
       "      <td>-121.494400</td>\n",
       "      <td>38.341730</td>\n",
       "    </tr>\n",
       "    <tr>\n",
       "      <th>1017</th>\n",
       "      <td>Boston</td>\n",
       "      <td>Massachusetts</td>\n",
       "      <td>42.360253</td>\n",
       "      <td>-71.058291</td>\n",
       "      <td>Providence</td>\n",
       "      <td>Rhoda Island</td>\n",
       "      <td>41.824877</td>\n",
       "      <td>-71.413618</td>\n",
       "      <td>41.246682</td>\n",
       "    </tr>\n",
       "    <tr>\n",
       "      <th>1882</th>\n",
       "      <td>Providence</td>\n",
       "      <td>Rhoda Island</td>\n",
       "      <td>41.824877</td>\n",
       "      <td>-71.413618</td>\n",
       "      <td>Boston</td>\n",
       "      <td>Massachusetts</td>\n",
       "      <td>42.360253</td>\n",
       "      <td>-71.058291</td>\n",
       "      <td>41.246682</td>\n",
       "    </tr>\n",
       "    <tr>\n",
       "      <th>938</th>\n",
       "      <td>Annapolis</td>\n",
       "      <td>Maryland</td>\n",
       "      <td>38.978640</td>\n",
       "      <td>-76.492786</td>\n",
       "      <td>Dover</td>\n",
       "      <td>Delaware</td>\n",
       "      <td>39.158168</td>\n",
       "      <td>-75.524368</td>\n",
       "      <td>53.426284</td>\n",
       "    </tr>\n",
       "  </tbody>\n",
       "</table>\n",
       "</div>"
      ],
      "text/plain": [
       "     origin_city   origin_state  origin_lat  origin_lon destination_city  \\\n",
       "244   Sacramento     California   38.581572 -121.494400         Cheyenne   \n",
       "2405    Cheyenne        Wyoming   38.040803 -121.336657       Sacramento   \n",
       "1017      Boston  Massachusetts   42.360253  -71.058291       Providence   \n",
       "1882  Providence   Rhoda Island   41.824877  -71.413618           Boston   \n",
       "938    Annapolis       Maryland   38.978640  -76.492786            Dover   \n",
       "\n",
       "     destination_state  destination_lat  destination_lon  distance_mile  \n",
       "244            Wyoming        38.040803      -121.336657      38.341730  \n",
       "2405        California        38.581572      -121.494400      38.341730  \n",
       "1017      Rhoda Island        41.824877       -71.413618      41.246682  \n",
       "1882     Massachusetts        42.360253       -71.058291      41.246682  \n",
       "938           Delaware        39.158168       -75.524368      53.426284  "
      ]
     },
     "execution_count": 113,
     "metadata": {},
     "output_type": "execute_result"
    }
   ],
   "source": [
    "print(distances.shape)\n",
    "distances_sorted = distances.sort_values(by=\"distance_mile\");distances_sorted.head()"
   ]
  },
  {
   "cell_type": "code",
   "execution_count": 114,
   "metadata": {},
   "outputs": [],
   "source": [
    "end = 2450\n",
    "values = []\n",
    "for i in range(0,end):\n",
    "    if i%2 == 0:\n",
    "        values.append(0)\n",
    "    else: \n",
    "        values.append(1)\n"
   ]
  },
  {
   "cell_type": "code",
   "execution_count": 115,
   "metadata": {},
   "outputs": [
    {
     "data": {
      "text/html": [
       "<div>\n",
       "<style scoped>\n",
       "    .dataframe tbody tr th:only-of-type {\n",
       "        vertical-align: middle;\n",
       "    }\n",
       "\n",
       "    .dataframe tbody tr th {\n",
       "        vertical-align: top;\n",
       "    }\n",
       "\n",
       "    .dataframe thead th {\n",
       "        text-align: right;\n",
       "    }\n",
       "</style>\n",
       "<table border=\"1\" class=\"dataframe\">\n",
       "  <thead>\n",
       "    <tr style=\"text-align: right;\">\n",
       "      <th></th>\n",
       "      <th>origin_city</th>\n",
       "      <th>origin_state</th>\n",
       "      <th>origin_lat</th>\n",
       "      <th>origin_lon</th>\n",
       "      <th>destination_city</th>\n",
       "      <th>destination_state</th>\n",
       "      <th>destination_lat</th>\n",
       "      <th>destination_lon</th>\n",
       "      <th>distance_mile</th>\n",
       "      <th>filter</th>\n",
       "    </tr>\n",
       "  </thead>\n",
       "  <tbody>\n",
       "    <tr>\n",
       "      <th>507</th>\n",
       "      <td>Honolulu</td>\n",
       "      <td>Hawaii</td>\n",
       "      <td>21.325079</td>\n",
       "      <td>-157.846644</td>\n",
       "      <td>Augusta</td>\n",
       "      <td>Maine</td>\n",
       "      <td>44.310583</td>\n",
       "      <td>-69.779663</td>\n",
       "      <td>5110.88414</td>\n",
       "      <td>0</td>\n",
       "    </tr>\n",
       "    <tr>\n",
       "      <th>892</th>\n",
       "      <td>Augusta</td>\n",
       "      <td>Maine</td>\n",
       "      <td>44.310583</td>\n",
       "      <td>-69.779663</td>\n",
       "      <td>Honolulu</td>\n",
       "      <td>Hawaii</td>\n",
       "      <td>21.325079</td>\n",
       "      <td>-157.846644</td>\n",
       "      <td>5110.88414</td>\n",
       "      <td>1</td>\n",
       "    </tr>\n",
       "  </tbody>\n",
       "</table>\n",
       "</div>"
      ],
      "text/plain": [
       "    origin_city origin_state  origin_lat  origin_lon destination_city  \\\n",
       "507    Honolulu       Hawaii   21.325079 -157.846644          Augusta   \n",
       "892     Augusta        Maine   44.310583  -69.779663         Honolulu   \n",
       "\n",
       "    destination_state  destination_lat  destination_lon  distance_mile  filter  \n",
       "507             Maine        44.310583       -69.779663     5110.88414       0  \n",
       "892            Hawaii        21.325079      -157.846644     5110.88414       1  "
      ]
     },
     "execution_count": 115,
     "metadata": {},
     "output_type": "execute_result"
    }
   ],
   "source": [
    "distances_sorted[\"filter\"] = values;distances_sorted.tail(2)"
   ]
  },
  {
   "cell_type": "code",
   "execution_count": 116,
   "metadata": {
    "scrolled": true
   },
   "outputs": [
    {
     "name": "stdout",
     "output_type": "stream",
     "text": [
      "1225\n"
     ]
    }
   ],
   "source": [
    "distance_unique = distances_sorted[distances_sorted[\"filter\"] == 1]\n",
    "distance_unique.drop([\"filter\"], axis=1, inplace = True)\n",
    "print(len(distance_unique))"
   ]
  },
  {
   "cell_type": "code",
   "execution_count": 117,
   "metadata": {},
   "outputs": [],
   "source": [
    "distance_unique.to_csv(\"distances.csv\", index=False)\n",
    "#removed duplicate distance in excel, A-B and B-A reduced to 1 distance"
   ]
  },
  {
   "cell_type": "markdown",
   "metadata": {},
   "source": [
    "## Trips!!\n"
   ]
  },
  {
   "cell_type": "code",
   "execution_count": 2,
   "metadata": {},
   "outputs": [],
   "source": [
    "distance_unique = pd.read_csv(\"distances.csv\")"
   ]
  },
  {
   "cell_type": "code",
   "execution_count": 3,
   "metadata": {},
   "outputs": [
    {
     "data": {
      "text/html": [
       "<div>\n",
       "<style scoped>\n",
       "    .dataframe tbody tr th:only-of-type {\n",
       "        vertical-align: middle;\n",
       "    }\n",
       "\n",
       "    .dataframe tbody tr th {\n",
       "        vertical-align: top;\n",
       "    }\n",
       "\n",
       "    .dataframe thead th {\n",
       "        text-align: right;\n",
       "    }\n",
       "</style>\n",
       "<table border=\"1\" class=\"dataframe\">\n",
       "  <thead>\n",
       "    <tr style=\"text-align: right;\">\n",
       "      <th></th>\n",
       "      <th>origin_city</th>\n",
       "      <th>origin_state</th>\n",
       "      <th>origin_lat</th>\n",
       "      <th>origin_lon</th>\n",
       "      <th>destination_city</th>\n",
       "      <th>destination_state</th>\n",
       "      <th>destination_lat</th>\n",
       "      <th>destination_lon</th>\n",
       "      <th>distance_mile</th>\n",
       "    </tr>\n",
       "  </thead>\n",
       "  <tbody>\n",
       "    <tr>\n",
       "      <th>0</th>\n",
       "      <td>Cheyenne</td>\n",
       "      <td>Wyoming</td>\n",
       "      <td>38.040803</td>\n",
       "      <td>-121.336657</td>\n",
       "      <td>Sacramento</td>\n",
       "      <td>California</td>\n",
       "      <td>38.581572</td>\n",
       "      <td>-121.494400</td>\n",
       "      <td>38.341730</td>\n",
       "    </tr>\n",
       "    <tr>\n",
       "      <th>1</th>\n",
       "      <td>Providence</td>\n",
       "      <td>Rhoda Island</td>\n",
       "      <td>41.824877</td>\n",
       "      <td>-71.413618</td>\n",
       "      <td>Boston</td>\n",
       "      <td>Massachusetts</td>\n",
       "      <td>42.360253</td>\n",
       "      <td>-71.058291</td>\n",
       "      <td>41.246682</td>\n",
       "    </tr>\n",
       "    <tr>\n",
       "      <th>2</th>\n",
       "      <td>Dover</td>\n",
       "      <td>Delaware</td>\n",
       "      <td>39.158168</td>\n",
       "      <td>-75.524368</td>\n",
       "      <td>Annapolis</td>\n",
       "      <td>Maryland</td>\n",
       "      <td>38.978640</td>\n",
       "      <td>-76.492786</td>\n",
       "      <td>53.426284</td>\n",
       "    </tr>\n",
       "    <tr>\n",
       "      <th>3</th>\n",
       "      <td>Concord</td>\n",
       "      <td>New Hampshire</td>\n",
       "      <td>43.207178</td>\n",
       "      <td>-71.537476</td>\n",
       "      <td>Boston</td>\n",
       "      <td>Massachusetts</td>\n",
       "      <td>42.360253</td>\n",
       "      <td>-71.058291</td>\n",
       "      <td>63.380937</td>\n",
       "    </tr>\n",
       "    <tr>\n",
       "      <th>4</th>\n",
       "      <td>Providence</td>\n",
       "      <td>Rhoda Island</td>\n",
       "      <td>41.824877</td>\n",
       "      <td>-71.413618</td>\n",
       "      <td>Hartford</td>\n",
       "      <td>Connecticut</td>\n",
       "      <td>41.764582</td>\n",
       "      <td>-72.690855</td>\n",
       "      <td>65.944394</td>\n",
       "    </tr>\n",
       "  </tbody>\n",
       "</table>\n",
       "</div>"
      ],
      "text/plain": [
       "  origin_city   origin_state  origin_lat  origin_lon destination_city  \\\n",
       "0    Cheyenne        Wyoming   38.040803 -121.336657       Sacramento   \n",
       "1  Providence   Rhoda Island   41.824877  -71.413618           Boston   \n",
       "2       Dover       Delaware   39.158168  -75.524368        Annapolis   \n",
       "3     Concord  New Hampshire   43.207178  -71.537476           Boston   \n",
       "4  Providence   Rhoda Island   41.824877  -71.413618         Hartford   \n",
       "\n",
       "  destination_state  destination_lat  destination_lon  distance_mile  \n",
       "0        California        38.581572      -121.494400      38.341730  \n",
       "1     Massachusetts        42.360253       -71.058291      41.246682  \n",
       "2          Maryland        38.978640       -76.492786      53.426284  \n",
       "3     Massachusetts        42.360253       -71.058291      63.380937  \n",
       "4       Connecticut        41.764582       -72.690855      65.944394  "
      ]
     },
     "execution_count": 3,
     "metadata": {},
     "output_type": "execute_result"
    }
   ],
   "source": [
    "distance_unique.head()"
   ]
  },
  {
   "cell_type": "code",
   "execution_count": 189,
   "metadata": {},
   "outputs": [],
   "source": [
    "start_city = \"Sacramento\"\n",
    "route = [start_city]\n",
    "total_distance = 0\n",
    "# route[-1]\n",
    "\n",
    "def optimize_distance(city):\n",
    "    nth = 1\n",
    "    global total_distance\n",
    "    min_distance = distance_unique[distance_unique[\"origin_city\"] == city][\"distance_mile\"].min()\n",
    "    min_distance_city = distance_unique[distance_unique[\"distance_mile\"] == min_distance][\"destination_city\"].values[0]\n",
    "    while min_distance_city in route: \n",
    "        #take nth smallest distance to avoid duplicate route\n",
    "        nth += 1 \n",
    "        min_distance_row = distance_unique[distance_unique[\"origin_city\"] == city].nsmallest(nth, 'distance_mile', keep='last').iloc[nth-1,]\n",
    "        min_distance = min_distance_row[\"distance_mile\"]\n",
    "        min_distance_city = min_distance_row[\"destination_city\"]\n",
    "        \n",
    "    route.append(min_distance_city)\n",
    "    total_distance += min_distance    \n",
    "        "
   ]
  },
  {
   "cell_type": "code",
   "execution_count": 190,
   "metadata": {},
   "outputs": [
    {
     "name": "stdout",
     "output_type": "stream",
     "text": [
      "['Sacramento', 'Phoenix', 'Santa Fe', 'Salt Lake City', 'Helena', 'Bismarck', 'Des Monies', 'Topeka', 'Oklahoma City', 'Little Rock', 'Jefferson City', 'Springfield', 'Madison', 'Columbus', 'Frankfort', 'Charleston', 'Richmond', 'Annapolis', 'Trenton', 'Providence', 'Boston', 'Hartford', 'Albany', 'Montpelier', 'Harrisburg', 'Dover', 'Concord', 'Lansing', 'Nashville', 'Atlanta', 'Montgomery', 'Tallahassee', 'Columbia', 'Raleigh', 'Jackson', 'Austin', 'Indianapolis', 'St. Paul', 'Lincoln', 'Pierre', 'Boise', 'Salem', 'Olympia', 'Carson City', 'Denver', 'Baton Rouge', 'Cheyenne', 'Augusta']\n",
      "20439.376777827387\n"
     ]
    }
   ],
   "source": [
    "# we will plot AK and HI mannually \n",
    "for i in range(0,47): \n",
    "    optimize_distance(route[-1])\n",
    "\n",
    "print(route)\n",
    "print(total_distance)\n"
   ]
  },
  {
   "cell_type": "code",
   "execution_count": 191,
   "metadata": {},
   "outputs": [
    {
     "data": {
      "text/plain": [
       "48"
      ]
     },
     "execution_count": 191,
     "metadata": {},
     "output_type": "execute_result"
    }
   ],
   "source": [
    "len(route)"
   ]
  },
  {
   "cell_type": "code",
   "execution_count": 192,
   "metadata": {},
   "outputs": [],
   "source": [
    "# Alaska: Juneau and Hawaii: Holonunu\n",
    "#insert Holonunu Hawaii between 'Sacramento' and 'Phoenix'\n",
    "#insert Juneau Alaska 'Salem' and 'Olympia'\n",
    "place_Sacramento = route.index(\"Sacramento\")+1\n",
    "route.insert(place_Sacramento,'Holonunu')\n",
    "place_Salem = route.index(\"Salem\")+1\n",
    "route.insert(place_Salem,'Juneau')\n",
    "\n",
    "#adding distance between Sacramento to Holonunu to Phoenix THEN Salem to Juneau to Olympia\n",
    "total_distance = total_distance + 2,460.70 + 2,907.38 + 1041 + 913"
   ]
  },
  {
   "cell_type": "code",
   "execution_count": 193,
   "metadata": {},
   "outputs": [
    {
     "name": "stdout",
     "output_type": "stream",
     "text": [
      "(20441.376777827387, 462.7, 2861.38)\n",
      "['Sacramento', 'Holonunu', 'Phoenix', 'Santa Fe', 'Salt Lake City', 'Helena', 'Bismarck', 'Des Monies', 'Topeka', 'Oklahoma City', 'Little Rock', 'Jefferson City', 'Springfield', 'Madison', 'Columbus', 'Frankfort', 'Charleston', 'Richmond', 'Annapolis', 'Trenton', 'Providence', 'Boston', 'Hartford', 'Albany', 'Montpelier', 'Harrisburg', 'Dover', 'Concord', 'Lansing', 'Nashville', 'Atlanta', 'Montgomery', 'Tallahassee', 'Columbia', 'Raleigh', 'Jackson', 'Austin', 'Indianapolis', 'St. Paul', 'Lincoln', 'Pierre', 'Boise', 'Salem', 'Juneau', 'Olympia', 'Carson City', 'Denver', 'Baton Rouge', 'Cheyenne', 'Augusta']\n"
     ]
    }
   ],
   "source": [
    "print(total_distance)\n",
    "print(route)"
   ]
  },
  {
   "cell_type": "code",
   "execution_count": null,
   "metadata": {},
   "outputs": [],
   "source": []
  }
 ],
 "metadata": {
  "kernelspec": {
   "display_name": "Python 3",
   "language": "python",
   "name": "python3"
  },
  "language_info": {
   "codemirror_mode": {
    "name": "ipython",
    "version": 3
   },
   "file_extension": ".py",
   "mimetype": "text/x-python",
   "name": "python",
   "nbconvert_exporter": "python",
   "pygments_lexer": "ipython3",
   "version": "3.7.1"
  }
 },
 "nbformat": 4,
 "nbformat_minor": 2
}
