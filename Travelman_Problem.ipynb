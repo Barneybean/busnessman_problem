{
 "cells": [
  {
   "cell_type": "code",
   "execution_count": 71,
   "metadata": {},
   "outputs": [],
   "source": [
    "!pip install -q geopy"
   ]
  },
  {
   "cell_type": "code",
   "execution_count": 3,
   "metadata": {},
   "outputs": [],
   "source": [
    "import pandas as pd \n",
    "import time \n",
    "#geocode cities \n",
    "from geopy.geocoders import Nominatim\n",
    "\n",
    "#to get combination\n",
    "from itertools import product\n",
    "\n",
    "#straight line distance conversion \n",
    "import math\n",
    "from math import sin, cos, sqrt, atan2, radians\n",
    "import numpy as np\n"
   ]
  },
  {
   "cell_type": "code",
   "execution_count": 4,
   "metadata": {},
   "outputs": [],
   "source": [
    "capital_dic={\n",
    "    'Alabama': 'Montgomery',\n",
    "    'Alaska': 'Juneau',\n",
    "    'Arizona':'Phoenix',\n",
    "    'Arkansas':'Little Rock',\n",
    "    'California': 'Sacramento',\n",
    "    'Colorado':'Denver',\n",
    "    'Connecticut':'Hartford',\n",
    "    'Delaware':'Dover',\n",
    "    'Florida': 'Tallahassee',\n",
    "    'Georgia': 'Atlanta',\n",
    "    'Hawaii': 'Honolulu',\n",
    "    'Idaho': 'Boise',\n",
    "    'Illinios': 'Springfield',\n",
    "    'Indiana': 'Indianapolis',\n",
    "    'Iowa': 'Des Monies',\n",
    "    'Kansas': 'Topeka',\n",
    "    'Kentucky': 'Frankfort',\n",
    "    'Louisiana': 'Baton Rouge',\n",
    "    'Maine': 'Augusta',\n",
    "    'Maryland': 'Annapolis',\n",
    "    'Massachusetts': 'Boston',\n",
    "    'Michigan': 'Lansing',\n",
    "    'Minnesota': 'St. Paul',\n",
    "    'Mississippi': 'Jackson',\n",
    "    'Missouri': 'Jefferson City',\n",
    "    'Montana': 'Helena',\n",
    "    'Nebraska': 'Lincoln',\n",
    "    'Neveda': 'Carson City',\n",
    "    'New Hampshire': 'Concord',\n",
    "    'New Jersey': 'Trenton',\n",
    "    'New Mexico': 'Santa Fe',\n",
    "    'New York': 'Albany',\n",
    "    'North Carolina': 'Raleigh',\n",
    "    'North Dakota': 'Bismarck',\n",
    "    'Ohio': 'Columbus',\n",
    "    'Oklahoma': 'Oklahoma City',\n",
    "    'Oregon': 'Salem',\n",
    "    'Pennsylvania': 'Harrisburg',\n",
    "    'Rhoda Island': 'Providence',\n",
    "    'South Carolina': 'Columbia',\n",
    "    'South Dakoda': 'Pierre',\n",
    "    'Tennessee': 'Nashville',\n",
    "    'Texas': 'Austin',\n",
    "    'Utah': 'Salt Lake City',\n",
    "    'Vermont': 'Montpelier',\n",
    "    'Virginia': 'Richmond',\n",
    "    'Washington': 'Olympia',\n",
    "    'West Virginia': 'Charleston',\n",
    "    'Wisconsin': 'Madison',\n",
    "    'Wyoming': 'Cheyenne'  \n",
    "} # create a dictionary, key is the state and value is the capital\n",
    "\n",
    "capitals = pd.DataFrame.from_dict(capital_dic, orient='index', columns=[\"capital\"])\n"
   ]
  },
  {
   "cell_type": "code",
   "execution_count": 3,
   "metadata": {},
   "outputs": [],
   "source": [
    "capitals[\"state\"] = capitals.index\n",
    "capitals[\"forsearch\"] = capitals[['capital', 'state']].apply(lambda x: ' '.join(x), axis=1)"
   ]
  },
  {
   "cell_type": "code",
   "execution_count": 4,
   "metadata": {},
   "outputs": [
    {
     "data": {
      "text/html": [
       "<div>\n",
       "<style scoped>\n",
       "    .dataframe tbody tr th:only-of-type {\n",
       "        vertical-align: middle;\n",
       "    }\n",
       "\n",
       "    .dataframe tbody tr th {\n",
       "        vertical-align: top;\n",
       "    }\n",
       "\n",
       "    .dataframe thead th {\n",
       "        text-align: right;\n",
       "    }\n",
       "</style>\n",
       "<table border=\"1\" class=\"dataframe\">\n",
       "  <thead>\n",
       "    <tr style=\"text-align: right;\">\n",
       "      <th></th>\n",
       "      <th>capital</th>\n",
       "      <th>state</th>\n",
       "      <th>forsearch</th>\n",
       "    </tr>\n",
       "  </thead>\n",
       "  <tbody>\n",
       "    <tr>\n",
       "      <th>Alabama</th>\n",
       "      <td>Montgomery</td>\n",
       "      <td>Alabama</td>\n",
       "      <td>Montgomery Alabama</td>\n",
       "    </tr>\n",
       "    <tr>\n",
       "      <th>Alaska</th>\n",
       "      <td>Juneau</td>\n",
       "      <td>Alaska</td>\n",
       "      <td>Juneau Alaska</td>\n",
       "    </tr>\n",
       "    <tr>\n",
       "      <th>Arizona</th>\n",
       "      <td>Phoenix</td>\n",
       "      <td>Arizona</td>\n",
       "      <td>Phoenix Arizona</td>\n",
       "    </tr>\n",
       "    <tr>\n",
       "      <th>Arkansas</th>\n",
       "      <td>Little Rock</td>\n",
       "      <td>Arkansas</td>\n",
       "      <td>Little Rock Arkansas</td>\n",
       "    </tr>\n",
       "    <tr>\n",
       "      <th>California</th>\n",
       "      <td>Sacramento</td>\n",
       "      <td>California</td>\n",
       "      <td>Sacramento California</td>\n",
       "    </tr>\n",
       "  </tbody>\n",
       "</table>\n",
       "</div>"
      ],
      "text/plain": [
       "                capital       state              forsearch\n",
       "Alabama      Montgomery     Alabama     Montgomery Alabama\n",
       "Alaska           Juneau      Alaska          Juneau Alaska\n",
       "Arizona         Phoenix     Arizona        Phoenix Arizona\n",
       "Arkansas    Little Rock    Arkansas   Little Rock Arkansas\n",
       "California   Sacramento  California  Sacramento California"
      ]
     },
     "execution_count": 4,
     "metadata": {},
     "output_type": "execute_result"
    }
   ],
   "source": [
    "capitals.head()"
   ]
  },
  {
   "cell_type": "code",
   "execution_count": 5,
   "metadata": {},
   "outputs": [],
   "source": [
    "def get_geocode(city):\n",
    "    geolocator = Nominatim(user_agent='myapplication')\n",
    "    location = geolocator.geocode(city)\n",
    "    lat = location.raw[\"lat\"]\n",
    "    lon = location.raw[\"lon\"]\n",
    "    return lat+\" \"+lon"
   ]
  },
  {
   "cell_type": "code",
   "execution_count": 6,
   "metadata": {},
   "outputs": [],
   "source": [
    "data1 = capitals[0:10]\n",
    "data2 = capitals[10:20]\n",
    "data3 = capitals[20:30]\n",
    "data4 = capitals[30:40]\n",
    "data5 = capitals[40:50]\n",
    "data_arr = [data1[\"forsearch\"], data2[\"forsearch\"], data3[\"forsearch\"], data4[\"forsearch\"], data5[\"forsearch\"]]\n"
   ]
  },
  {
   "cell_type": "code",
   "execution_count": 125,
   "metadata": {},
   "outputs": [],
   "source": [
    "geo_arr = []\n",
    "\n",
    "for sub in data_arr:   \n",
    "    for x in sub:\n",
    "        try:  \n",
    "            geo_arr.append(get_geocode(x))\n",
    "            time.sleep(1)\n",
    "        except:\n",
    "            geo_arr.append(\"na\")\n",
    "            time.sleep(1)"
   ]
  },
  {
   "cell_type": "code",
   "execution_count": 126,
   "metadata": {},
   "outputs": [
    {
     "data": {
      "text/plain": [
       "50"
      ]
     },
     "execution_count": 126,
     "metadata": {},
     "output_type": "execute_result"
    }
   ],
   "source": [
    "len(geo_arr)"
   ]
  },
  {
   "cell_type": "code",
   "execution_count": 9,
   "metadata": {},
   "outputs": [],
   "source": [
    "capitals[\"geocode\"] = geo_arr\n",
    "capitals.to_csv(\"geocoded_capital.csv\", index = False)\n"
   ]
  },
  {
   "cell_type": "markdown",
   "metadata": {},
   "source": [
    "### In Excel, we process the missing geocodes and standardize geocodes as well "
   ]
  },
  {
   "cell_type": "code",
   "execution_count": 8,
   "metadata": {},
   "outputs": [
    {
     "data": {
      "text/html": [
       "<div>\n",
       "<style scoped>\n",
       "    .dataframe tbody tr th:only-of-type {\n",
       "        vertical-align: middle;\n",
       "    }\n",
       "\n",
       "    .dataframe tbody tr th {\n",
       "        vertical-align: top;\n",
       "    }\n",
       "\n",
       "    .dataframe thead th {\n",
       "        text-align: right;\n",
       "    }\n",
       "</style>\n",
       "<table border=\"1\" class=\"dataframe\">\n",
       "  <thead>\n",
       "    <tr style=\"text-align: right;\">\n",
       "      <th></th>\n",
       "      <th>capital</th>\n",
       "      <th>state</th>\n",
       "      <th>lat</th>\n",
       "      <th>lon</th>\n",
       "    </tr>\n",
       "  </thead>\n",
       "  <tbody>\n",
       "    <tr>\n",
       "      <th>0</th>\n",
       "      <td>Montgomery</td>\n",
       "      <td>Alabama</td>\n",
       "      <td>32.366966</td>\n",
       "      <td>-86.300648</td>\n",
       "    </tr>\n",
       "    <tr>\n",
       "      <th>1</th>\n",
       "      <td>Juneau</td>\n",
       "      <td>Alaska</td>\n",
       "      <td>58.301950</td>\n",
       "      <td>-134.419734</td>\n",
       "    </tr>\n",
       "  </tbody>\n",
       "</table>\n",
       "</div>"
      ],
      "text/plain": [
       "      capital    state        lat         lon\n",
       "0  Montgomery  Alabama  32.366966  -86.300648\n",
       "1      Juneau   Alaska  58.301950 -134.419734"
      ]
     },
     "execution_count": 8,
     "metadata": {},
     "output_type": "execute_result"
    }
   ],
   "source": [
    "capitals_geo = pd.read_csv(\"geocoded_capital.csv\"); capitals_geo.head(2)"
   ]
  },
  {
   "cell_type": "markdown",
   "metadata": {},
   "source": [
    "### get distance between any two capitals"
   ]
  },
  {
   "cell_type": "code",
   "execution_count": 9,
   "metadata": {},
   "outputs": [
    {
     "data": {
      "text/plain": [
       "['Montgomery,Alabama,32.3669656,-86.3006485',\n",
       " 'Juneau,Alaska,58.30194960000001,-134.419734']"
      ]
     },
     "execution_count": 9,
     "metadata": {},
     "output_type": "execute_result"
    }
   ],
   "source": [
    "#to get combination of cities, join all text and ...\n",
    "capitals_geo[\"lat\"] = capitals_geo[\"lat\"].astype(str)\n",
    "capitals_geo[\"lon\"] = capitals_geo[\"lon\"].astype(str)\n",
    "\n",
    "combination = list(capitals_geo[['capital', 'state', \"lat\", \"lon\"]].apply(lambda x: ','.join(x), axis=1))\n",
    "# combination_df = pd.DataFrame({\"text\": combination})\n",
    "combination[0:2]"
   ]
  },
  {
   "cell_type": "code",
   "execution_count": 10,
   "metadata": {},
   "outputs": [
    {
     "data": {
      "text/html": [
       "<div>\n",
       "<style scoped>\n",
       "    .dataframe tbody tr th:only-of-type {\n",
       "        vertical-align: middle;\n",
       "    }\n",
       "\n",
       "    .dataframe tbody tr th {\n",
       "        vertical-align: top;\n",
       "    }\n",
       "\n",
       "    .dataframe thead th {\n",
       "        text-align: right;\n",
       "    }\n",
       "</style>\n",
       "<table border=\"1\" class=\"dataframe\">\n",
       "  <thead>\n",
       "    <tr style=\"text-align: right;\">\n",
       "      <th></th>\n",
       "      <th>origin</th>\n",
       "      <th>destination</th>\n",
       "    </tr>\n",
       "  </thead>\n",
       "  <tbody>\n",
       "    <tr>\n",
       "      <th>0</th>\n",
       "      <td>Montgomery,Alabama,32.3669656,-86.3006485</td>\n",
       "      <td>Montgomery,Alabama,32.3669656,-86.3006485</td>\n",
       "    </tr>\n",
       "    <tr>\n",
       "      <th>1</th>\n",
       "      <td>Montgomery,Alabama,32.3669656,-86.3006485</td>\n",
       "      <td>Juneau,Alaska,58.30194960000001,-134.419734</td>\n",
       "    </tr>\n",
       "    <tr>\n",
       "      <th>2</th>\n",
       "      <td>Montgomery,Alabama,32.3669656,-86.3006485</td>\n",
       "      <td>Phoenix,Arizona,33.448586600000006,-112.0773456</td>\n",
       "    </tr>\n",
       "    <tr>\n",
       "      <th>3</th>\n",
       "      <td>Montgomery,Alabama,32.3669656,-86.3006485</td>\n",
       "      <td>Little Rock,Arkansas,34.7464809,-92.2895948</td>\n",
       "    </tr>\n",
       "    <tr>\n",
       "      <th>4</th>\n",
       "      <td>Montgomery,Alabama,32.3669656,-86.3006485</td>\n",
       "      <td>Sacramento,California,38.5815719,-121.49439960...</td>\n",
       "    </tr>\n",
       "  </tbody>\n",
       "</table>\n",
       "</div>"
      ],
      "text/plain": [
       "                                      origin  \\\n",
       "0  Montgomery,Alabama,32.3669656,-86.3006485   \n",
       "1  Montgomery,Alabama,32.3669656,-86.3006485   \n",
       "2  Montgomery,Alabama,32.3669656,-86.3006485   \n",
       "3  Montgomery,Alabama,32.3669656,-86.3006485   \n",
       "4  Montgomery,Alabama,32.3669656,-86.3006485   \n",
       "\n",
       "                                         destination  \n",
       "0          Montgomery,Alabama,32.3669656,-86.3006485  \n",
       "1        Juneau,Alaska,58.30194960000001,-134.419734  \n",
       "2    Phoenix,Arizona,33.448586600000006,-112.0773456  \n",
       "3        Little Rock,Arkansas,34.7464809,-92.2895948  \n",
       "4  Sacramento,California,38.5815719,-121.49439960...  "
      ]
     },
     "execution_count": 10,
     "metadata": {},
     "output_type": "execute_result"
    }
   ],
   "source": [
    "df = pd.DataFrame(data=list(product(combination, combination)), columns=['origin','destination'])\n",
    "df.head(5)"
   ]
  },
  {
   "cell_type": "code",
   "execution_count": 11,
   "metadata": {},
   "outputs": [],
   "source": [
    "df.to_csv(\"combination.csv\", index=False)"
   ]
  },
  {
   "cell_type": "markdown",
   "metadata": {},
   "source": [
    "### calculate straght Distance"
   ]
  },
  {
   "cell_type": "code",
   "execution_count": 17,
   "metadata": {},
   "outputs": [
    {
     "name": "stdout",
     "output_type": "stream",
     "text": [
      "(2500, 8)\n"
     ]
    },
    {
     "data": {
      "text/html": [
       "<div>\n",
       "<style scoped>\n",
       "    .dataframe tbody tr th:only-of-type {\n",
       "        vertical-align: middle;\n",
       "    }\n",
       "\n",
       "    .dataframe tbody tr th {\n",
       "        vertical-align: top;\n",
       "    }\n",
       "\n",
       "    .dataframe thead th {\n",
       "        text-align: right;\n",
       "    }\n",
       "</style>\n",
       "<table border=\"1\" class=\"dataframe\">\n",
       "  <thead>\n",
       "    <tr style=\"text-align: right;\">\n",
       "      <th></th>\n",
       "      <th>origin_city</th>\n",
       "      <th>origin_state</th>\n",
       "      <th>origin_lat</th>\n",
       "      <th>origin_lon</th>\n",
       "      <th>destination_city</th>\n",
       "      <th>destination_state</th>\n",
       "      <th>destination_lat</th>\n",
       "      <th>destination_lon</th>\n",
       "    </tr>\n",
       "  </thead>\n",
       "  <tbody>\n",
       "    <tr>\n",
       "      <th>0</th>\n",
       "      <td>Montgomery</td>\n",
       "      <td>Alabama</td>\n",
       "      <td>32.367</td>\n",
       "      <td>-86.3006</td>\n",
       "      <td>Montgomery</td>\n",
       "      <td>Alabama</td>\n",
       "      <td>32.3670</td>\n",
       "      <td>-86.3006</td>\n",
       "    </tr>\n",
       "    <tr>\n",
       "      <th>1</th>\n",
       "      <td>Montgomery</td>\n",
       "      <td>Alabama</td>\n",
       "      <td>32.367</td>\n",
       "      <td>-86.3006</td>\n",
       "      <td>Juneau</td>\n",
       "      <td>Alaska</td>\n",
       "      <td>58.3019</td>\n",
       "      <td>-134.4197</td>\n",
       "    </tr>\n",
       "  </tbody>\n",
       "</table>\n",
       "</div>"
      ],
      "text/plain": [
       "  origin_city origin_state  origin_lat  origin_lon destination_city  \\\n",
       "0  Montgomery      Alabama      32.367    -86.3006       Montgomery   \n",
       "1  Montgomery      Alabama      32.367    -86.3006           Juneau   \n",
       "\n",
       "  destination_state  destination_lat  destination_lon  \n",
       "0           Alabama          32.3670         -86.3006  \n",
       "1            Alaska          58.3019        -134.4197  "
      ]
     },
     "execution_count": 17,
     "metadata": {},
     "output_type": "execute_result"
    }
   ],
   "source": [
    "#after seperating the string into columns in excel\n",
    "distances = pd.read_csv(\"seperated.csv\") \n",
    "print(distances.shape)\n",
    "distances.head(2)"
   ]
  },
  {
   "cell_type": "code",
   "execution_count": 18,
   "metadata": {},
   "outputs": [],
   "source": [
    "distances[\"lat1\"]=np.radians(distances[\"origin_lat\"])\n",
    "# approximate radius of earth in km\n",
    "R = 6373.0*0.621371\n",
    "\n",
    "distances[\"lat1\"] = np.radians(distances[\"origin_lat\"])\n",
    "distances[\"lon1\"] = np.radians(distances[\"origin_lon\"])\n",
    "distances[\"lat2\"] = np.radians(distances[\"destination_lat\"])\n",
    "distances[\"lon2\"] = np.radians(distances[\"destination_lon\"])\n",
    "\n",
    "distances[\"dlon\"] = distances[\"lon2\"] - distances[\"lon1\"]\n",
    "distances[\"dlat\"] = distances[\"lat2\"] - distances[\"lat1\"]\n",
    "\n",
    "distances[\"a\"] = np.sin(distances[\"dlat\"] / 2)**2 + np.cos(distances[\"lat1\"]) * np.cos(distances[\"lat2\"]) * np.sin(distances[\"dlon\"] / 2)**2\n",
    "distances[\"c\"] = 2 * np.arctan2(np.sqrt(distances[\"a\"]), np.sqrt(1 - distances[\"a\"]))\n",
    "distances[\"distance_mile\"] = R * distances[\"c\"]\n"
   ]
  },
  {
   "cell_type": "code",
   "execution_count": 19,
   "metadata": {},
   "outputs": [
    {
     "data": {
      "text/html": [
       "<div>\n",
       "<style scoped>\n",
       "    .dataframe tbody tr th:only-of-type {\n",
       "        vertical-align: middle;\n",
       "    }\n",
       "\n",
       "    .dataframe tbody tr th {\n",
       "        vertical-align: top;\n",
       "    }\n",
       "\n",
       "    .dataframe thead th {\n",
       "        text-align: right;\n",
       "    }\n",
       "</style>\n",
       "<table border=\"1\" class=\"dataframe\">\n",
       "  <thead>\n",
       "    <tr style=\"text-align: right;\">\n",
       "      <th></th>\n",
       "      <th>origin_city</th>\n",
       "      <th>origin_state</th>\n",
       "      <th>origin_lat</th>\n",
       "      <th>origin_lon</th>\n",
       "      <th>destination_city</th>\n",
       "      <th>destination_state</th>\n",
       "      <th>destination_lat</th>\n",
       "      <th>destination_lon</th>\n",
       "      <th>distance_mile</th>\n",
       "    </tr>\n",
       "  </thead>\n",
       "  <tbody>\n",
       "    <tr>\n",
       "      <th>1</th>\n",
       "      <td>Montgomery</td>\n",
       "      <td>Alabama</td>\n",
       "      <td>32.367</td>\n",
       "      <td>-86.3006</td>\n",
       "      <td>Juneau</td>\n",
       "      <td>Alaska</td>\n",
       "      <td>58.3019</td>\n",
       "      <td>-134.4197</td>\n",
       "      <td>2851.456965</td>\n",
       "    </tr>\n",
       "    <tr>\n",
       "      <th>2</th>\n",
       "      <td>Montgomery</td>\n",
       "      <td>Alabama</td>\n",
       "      <td>32.367</td>\n",
       "      <td>-86.3006</td>\n",
       "      <td>Phoenix</td>\n",
       "      <td>Arizona</td>\n",
       "      <td>33.4486</td>\n",
       "      <td>-112.0773</td>\n",
       "      <td>1493.745791</td>\n",
       "    </tr>\n",
       "    <tr>\n",
       "      <th>3</th>\n",
       "      <td>Montgomery</td>\n",
       "      <td>Alabama</td>\n",
       "      <td>32.367</td>\n",
       "      <td>-86.3006</td>\n",
       "      <td>Little Rock</td>\n",
       "      <td>Arkansas</td>\n",
       "      <td>34.7465</td>\n",
       "      <td>-92.2896</td>\n",
       "      <td>382.047267</td>\n",
       "    </tr>\n",
       "    <tr>\n",
       "      <th>4</th>\n",
       "      <td>Montgomery</td>\n",
       "      <td>Alabama</td>\n",
       "      <td>32.367</td>\n",
       "      <td>-86.3006</td>\n",
       "      <td>Sacramento</td>\n",
       "      <td>California</td>\n",
       "      <td>38.5816</td>\n",
       "      <td>-121.4944</td>\n",
       "      <td>2014.023878</td>\n",
       "    </tr>\n",
       "    <tr>\n",
       "      <th>5</th>\n",
       "      <td>Montgomery</td>\n",
       "      <td>Alabama</td>\n",
       "      <td>32.367</td>\n",
       "      <td>-86.3006</td>\n",
       "      <td>Denver</td>\n",
       "      <td>Colorado</td>\n",
       "      <td>39.7392</td>\n",
       "      <td>-104.9849</td>\n",
       "      <td>1158.601509</td>\n",
       "    </tr>\n",
       "  </tbody>\n",
       "</table>\n",
       "</div>"
      ],
      "text/plain": [
       "  origin_city origin_state  origin_lat  origin_lon destination_city  \\\n",
       "1  Montgomery      Alabama      32.367    -86.3006           Juneau   \n",
       "2  Montgomery      Alabama      32.367    -86.3006          Phoenix   \n",
       "3  Montgomery      Alabama      32.367    -86.3006      Little Rock   \n",
       "4  Montgomery      Alabama      32.367    -86.3006       Sacramento   \n",
       "5  Montgomery      Alabama      32.367    -86.3006           Denver   \n",
       "\n",
       "  destination_state  destination_lat  destination_lon  distance_mile  \n",
       "1            Alaska          58.3019        -134.4197    2851.456965  \n",
       "2           Arizona          33.4486        -112.0773    1493.745791  \n",
       "3          Arkansas          34.7465         -92.2896     382.047267  \n",
       "4        California          38.5816        -121.4944    2014.023878  \n",
       "5          Colorado          39.7392        -104.9849    1158.601509  "
      ]
     },
     "execution_count": 19,
     "metadata": {},
     "output_type": "execute_result"
    }
   ],
   "source": [
    "distances.drop([\"lat1\", \"lon1\", \"lat2\", \"lon2\", \"dlon\", \"dlat\", \"a\", \"c\"], axis=1, inplace=True)\n",
    "distances = distances[distances[\"distance_mile\"] > 0]\n",
    "distances.head()"
   ]
  },
  {
   "cell_type": "code",
   "execution_count": null,
   "metadata": {},
   "outputs": [],
   "source": []
  },
  {
   "cell_type": "code",
   "execution_count": 20,
   "metadata": {},
   "outputs": [
    {
     "name": "stdout",
     "output_type": "stream",
     "text": [
      "(2450, 9)\n"
     ]
    },
    {
     "data": {
      "text/html": [
       "<div>\n",
       "<style scoped>\n",
       "    .dataframe tbody tr th:only-of-type {\n",
       "        vertical-align: middle;\n",
       "    }\n",
       "\n",
       "    .dataframe tbody tr th {\n",
       "        vertical-align: top;\n",
       "    }\n",
       "\n",
       "    .dataframe thead th {\n",
       "        text-align: right;\n",
       "    }\n",
       "</style>\n",
       "<table border=\"1\" class=\"dataframe\">\n",
       "  <thead>\n",
       "    <tr style=\"text-align: right;\">\n",
       "      <th></th>\n",
       "      <th>origin_city</th>\n",
       "      <th>origin_state</th>\n",
       "      <th>origin_lat</th>\n",
       "      <th>origin_lon</th>\n",
       "      <th>destination_city</th>\n",
       "      <th>destination_state</th>\n",
       "      <th>destination_lat</th>\n",
       "      <th>destination_lon</th>\n",
       "      <th>distance_mile</th>\n",
       "    </tr>\n",
       "  </thead>\n",
       "  <tbody>\n",
       "    <tr>\n",
       "      <th>1920</th>\n",
       "      <td>Providence</td>\n",
       "      <td>Rhoda Island</td>\n",
       "      <td>41.8249</td>\n",
       "      <td>-71.4136</td>\n",
       "      <td>Boston</td>\n",
       "      <td>Massachusetts</td>\n",
       "      <td>42.3603</td>\n",
       "      <td>-71.0583</td>\n",
       "      <td>41.247533</td>\n",
       "    </tr>\n",
       "    <tr>\n",
       "      <th>1038</th>\n",
       "      <td>Boston</td>\n",
       "      <td>Massachusetts</td>\n",
       "      <td>42.3603</td>\n",
       "      <td>-71.0583</td>\n",
       "      <td>Providence</td>\n",
       "      <td>Rhoda Island</td>\n",
       "      <td>41.8249</td>\n",
       "      <td>-71.4136</td>\n",
       "      <td>41.247533</td>\n",
       "    </tr>\n",
       "    <tr>\n",
       "      <th>957</th>\n",
       "      <td>Annapolis</td>\n",
       "      <td>Maryland</td>\n",
       "      <td>38.9786</td>\n",
       "      <td>-76.4928</td>\n",
       "      <td>Dover</td>\n",
       "      <td>Delaware</td>\n",
       "      <td>39.1582</td>\n",
       "      <td>-75.5244</td>\n",
       "      <td>53.426515</td>\n",
       "    </tr>\n",
       "    <tr>\n",
       "      <th>369</th>\n",
       "      <td>Dover</td>\n",
       "      <td>Delaware</td>\n",
       "      <td>39.1582</td>\n",
       "      <td>-75.5244</td>\n",
       "      <td>Annapolis</td>\n",
       "      <td>Maryland</td>\n",
       "      <td>38.9786</td>\n",
       "      <td>-76.4928</td>\n",
       "      <td>53.426515</td>\n",
       "    </tr>\n",
       "    <tr>\n",
       "      <th>1028</th>\n",
       "      <td>Boston</td>\n",
       "      <td>Massachusetts</td>\n",
       "      <td>42.3603</td>\n",
       "      <td>-71.0583</td>\n",
       "      <td>Concord</td>\n",
       "      <td>New Hampshire</td>\n",
       "      <td>43.2072</td>\n",
       "      <td>-71.5375</td>\n",
       "      <td>63.379658</td>\n",
       "    </tr>\n",
       "  </tbody>\n",
       "</table>\n",
       "</div>"
      ],
      "text/plain": [
       "     origin_city   origin_state  origin_lat  origin_lon destination_city  \\\n",
       "1920  Providence   Rhoda Island     41.8249    -71.4136           Boston   \n",
       "1038      Boston  Massachusetts     42.3603    -71.0583       Providence   \n",
       "957    Annapolis       Maryland     38.9786    -76.4928            Dover   \n",
       "369        Dover       Delaware     39.1582    -75.5244        Annapolis   \n",
       "1028      Boston  Massachusetts     42.3603    -71.0583          Concord   \n",
       "\n",
       "     destination_state  destination_lat  destination_lon  distance_mile  \n",
       "1920     Massachusetts          42.3603         -71.0583      41.247533  \n",
       "1038      Rhoda Island          41.8249         -71.4136      41.247533  \n",
       "957           Delaware          39.1582         -75.5244      53.426515  \n",
       "369           Maryland          38.9786         -76.4928      53.426515  \n",
       "1028     New Hampshire          43.2072         -71.5375      63.379658  "
      ]
     },
     "execution_count": 20,
     "metadata": {},
     "output_type": "execute_result"
    }
   ],
   "source": [
    "print(distances.shape)\n",
    "distances_sorted = distances.sort_values(by=\"distance_mile\");distances_sorted.head()"
   ]
  },
  {
   "cell_type": "code",
   "execution_count": 21,
   "metadata": {},
   "outputs": [],
   "source": [
    "end = 2450\n",
    "values = []\n",
    "for i in range(0,end):\n",
    "    if i%2 == 0:\n",
    "        values.append(0)\n",
    "    else: \n",
    "        values.append(1)\n"
   ]
  },
  {
   "cell_type": "code",
   "execution_count": 22,
   "metadata": {},
   "outputs": [
    {
     "data": {
      "text/html": [
       "<div>\n",
       "<style scoped>\n",
       "    .dataframe tbody tr th:only-of-type {\n",
       "        vertical-align: middle;\n",
       "    }\n",
       "\n",
       "    .dataframe tbody tr th {\n",
       "        vertical-align: top;\n",
       "    }\n",
       "\n",
       "    .dataframe thead th {\n",
       "        text-align: right;\n",
       "    }\n",
       "</style>\n",
       "<table border=\"1\" class=\"dataframe\">\n",
       "  <thead>\n",
       "    <tr style=\"text-align: right;\">\n",
       "      <th></th>\n",
       "      <th>origin_city</th>\n",
       "      <th>origin_state</th>\n",
       "      <th>origin_lat</th>\n",
       "      <th>origin_lon</th>\n",
       "      <th>destination_city</th>\n",
       "      <th>destination_state</th>\n",
       "      <th>destination_lat</th>\n",
       "      <th>destination_lon</th>\n",
       "      <th>distance_mile</th>\n",
       "      <th>filter</th>\n",
       "    </tr>\n",
       "  </thead>\n",
       "  <tbody>\n",
       "    <tr>\n",
       "      <th>518</th>\n",
       "      <td>Honolulu</td>\n",
       "      <td>Hawaii</td>\n",
       "      <td>21.3251</td>\n",
       "      <td>-157.8466</td>\n",
       "      <td>Augusta</td>\n",
       "      <td>Maine</td>\n",
       "      <td>44.3106</td>\n",
       "      <td>-69.7797</td>\n",
       "      <td>5110.878966</td>\n",
       "      <td>0</td>\n",
       "    </tr>\n",
       "    <tr>\n",
       "      <th>910</th>\n",
       "      <td>Augusta</td>\n",
       "      <td>Maine</td>\n",
       "      <td>44.3106</td>\n",
       "      <td>-69.7797</td>\n",
       "      <td>Honolulu</td>\n",
       "      <td>Hawaii</td>\n",
       "      <td>21.3251</td>\n",
       "      <td>-157.8466</td>\n",
       "      <td>5110.878966</td>\n",
       "      <td>1</td>\n",
       "    </tr>\n",
       "  </tbody>\n",
       "</table>\n",
       "</div>"
      ],
      "text/plain": [
       "    origin_city origin_state  origin_lat  origin_lon destination_city  \\\n",
       "518    Honolulu       Hawaii     21.3251   -157.8466          Augusta   \n",
       "910     Augusta        Maine     44.3106    -69.7797         Honolulu   \n",
       "\n",
       "    destination_state  destination_lat  destination_lon  distance_mile  filter  \n",
       "518             Maine          44.3106         -69.7797    5110.878966       0  \n",
       "910            Hawaii          21.3251        -157.8466    5110.878966       1  "
      ]
     },
     "execution_count": 22,
     "metadata": {},
     "output_type": "execute_result"
    }
   ],
   "source": [
    "distances_sorted[\"filter\"] = values;distances_sorted.tail(2)"
   ]
  },
  {
   "cell_type": "code",
   "execution_count": 23,
   "metadata": {},
   "outputs": [],
   "source": [
    "distances_sorted.to_csv(\"distance_sorted.csv\")"
   ]
  },
  {
   "cell_type": "code",
   "execution_count": 72,
   "metadata": {
    "scrolled": true
   },
   "outputs": [
    {
     "name": "stdout",
     "output_type": "stream",
     "text": [
      "1225\n"
     ]
    },
    {
     "name": "stderr",
     "output_type": "stream",
     "text": [
      "/anaconda3/lib/python3.7/site-packages/pandas/core/frame.py:3697: SettingWithCopyWarning: \n",
      "A value is trying to be set on a copy of a slice from a DataFrame\n",
      "\n",
      "See the caveats in the documentation: http://pandas.pydata.org/pandas-docs/stable/indexing.html#indexing-view-versus-copy\n",
      "  errors=errors)\n"
     ]
    }
   ],
   "source": [
    "distance_unique = distances_sorted[distances_sorted[\"filter\"] == 1]\n",
    "distance_unique.drop([\"filter\"], axis=1, inplace = True)\n",
    "print(len(distance_unique))"
   ]
  },
  {
   "cell_type": "code",
   "execution_count": 73,
   "metadata": {},
   "outputs": [],
   "source": [
    "distance_unique.to_csv(\"distances.csv\", index=False)\n",
    "#removed duplicate distance in excel, A-B and B-A reduced to 1 distance"
   ]
  },
  {
   "cell_type": "markdown",
   "metadata": {},
   "source": [
    "## Trips!!\n"
   ]
  },
  {
   "cell_type": "code",
   "execution_count": 16,
   "metadata": {},
   "outputs": [],
   "source": [
    "distance_unique = pd.read_csv(\"distance_sorted.csv\")"
   ]
  },
  {
   "cell_type": "code",
   "execution_count": 17,
   "metadata": {},
   "outputs": [
    {
     "name": "stdout",
     "output_type": "stream",
     "text": [
      "2450\n"
     ]
    },
    {
     "data": {
      "text/html": [
       "<div>\n",
       "<style scoped>\n",
       "    .dataframe tbody tr th:only-of-type {\n",
       "        vertical-align: middle;\n",
       "    }\n",
       "\n",
       "    .dataframe tbody tr th {\n",
       "        vertical-align: top;\n",
       "    }\n",
       "\n",
       "    .dataframe thead th {\n",
       "        text-align: right;\n",
       "    }\n",
       "</style>\n",
       "<table border=\"1\" class=\"dataframe\">\n",
       "  <thead>\n",
       "    <tr style=\"text-align: right;\">\n",
       "      <th></th>\n",
       "      <th>Unnamed: 0</th>\n",
       "      <th>origin_city</th>\n",
       "      <th>origin_state</th>\n",
       "      <th>origin_lat</th>\n",
       "      <th>origin_lon</th>\n",
       "      <th>destination_city</th>\n",
       "      <th>destination_state</th>\n",
       "      <th>destination_lat</th>\n",
       "      <th>destination_lon</th>\n",
       "      <th>distance_mile</th>\n",
       "      <th>filter</th>\n",
       "    </tr>\n",
       "  </thead>\n",
       "  <tbody>\n",
       "    <tr>\n",
       "      <th>0</th>\n",
       "      <td>1920</td>\n",
       "      <td>Providence</td>\n",
       "      <td>Rhoda Island</td>\n",
       "      <td>41.8249</td>\n",
       "      <td>-71.4136</td>\n",
       "      <td>Boston</td>\n",
       "      <td>Massachusetts</td>\n",
       "      <td>42.3603</td>\n",
       "      <td>-71.0583</td>\n",
       "      <td>41.247533</td>\n",
       "      <td>0</td>\n",
       "    </tr>\n",
       "    <tr>\n",
       "      <th>1</th>\n",
       "      <td>1038</td>\n",
       "      <td>Boston</td>\n",
       "      <td>Massachusetts</td>\n",
       "      <td>42.3603</td>\n",
       "      <td>-71.0583</td>\n",
       "      <td>Providence</td>\n",
       "      <td>Rhoda Island</td>\n",
       "      <td>41.8249</td>\n",
       "      <td>-71.4136</td>\n",
       "      <td>41.247533</td>\n",
       "      <td>1</td>\n",
       "    </tr>\n",
       "    <tr>\n",
       "      <th>2</th>\n",
       "      <td>957</td>\n",
       "      <td>Annapolis</td>\n",
       "      <td>Maryland</td>\n",
       "      <td>38.9786</td>\n",
       "      <td>-76.4928</td>\n",
       "      <td>Dover</td>\n",
       "      <td>Delaware</td>\n",
       "      <td>39.1582</td>\n",
       "      <td>-75.5244</td>\n",
       "      <td>53.426515</td>\n",
       "      <td>0</td>\n",
       "    </tr>\n",
       "    <tr>\n",
       "      <th>3</th>\n",
       "      <td>369</td>\n",
       "      <td>Dover</td>\n",
       "      <td>Delaware</td>\n",
       "      <td>39.1582</td>\n",
       "      <td>-75.5244</td>\n",
       "      <td>Annapolis</td>\n",
       "      <td>Maryland</td>\n",
       "      <td>38.9786</td>\n",
       "      <td>-76.4928</td>\n",
       "      <td>53.426515</td>\n",
       "      <td>1</td>\n",
       "    </tr>\n",
       "    <tr>\n",
       "      <th>4</th>\n",
       "      <td>1028</td>\n",
       "      <td>Boston</td>\n",
       "      <td>Massachusetts</td>\n",
       "      <td>42.3603</td>\n",
       "      <td>-71.0583</td>\n",
       "      <td>Concord</td>\n",
       "      <td>New Hampshire</td>\n",
       "      <td>43.2072</td>\n",
       "      <td>-71.5375</td>\n",
       "      <td>63.379658</td>\n",
       "      <td>0</td>\n",
       "    </tr>\n",
       "  </tbody>\n",
       "</table>\n",
       "</div>"
      ],
      "text/plain": [
       "   Unnamed: 0 origin_city   origin_state  origin_lat  origin_lon  \\\n",
       "0        1920  Providence   Rhoda Island     41.8249    -71.4136   \n",
       "1        1038      Boston  Massachusetts     42.3603    -71.0583   \n",
       "2         957   Annapolis       Maryland     38.9786    -76.4928   \n",
       "3         369       Dover       Delaware     39.1582    -75.5244   \n",
       "4        1028      Boston  Massachusetts     42.3603    -71.0583   \n",
       "\n",
       "  destination_city destination_state  destination_lat  destination_lon  \\\n",
       "0           Boston     Massachusetts          42.3603         -71.0583   \n",
       "1       Providence      Rhoda Island          41.8249         -71.4136   \n",
       "2            Dover          Delaware          39.1582         -75.5244   \n",
       "3        Annapolis          Maryland          38.9786         -76.4928   \n",
       "4          Concord     New Hampshire          43.2072         -71.5375   \n",
       "\n",
       "   distance_mile  filter  \n",
       "0      41.247533       0  \n",
       "1      41.247533       1  \n",
       "2      53.426515       0  \n",
       "3      53.426515       1  \n",
       "4      63.379658       0  "
      ]
     },
     "execution_count": 17,
     "metadata": {},
     "output_type": "execute_result"
    }
   ],
   "source": [
    "print(len(distance_unique))\n",
    "distance_unique.head()"
   ]
  },
  {
   "cell_type": "code",
   "execution_count": 22,
   "metadata": {},
   "outputs": [],
   "source": [
    "start_city = \"Sacramento\"\n",
    "route = [start_city] #to acommandate firt city\n",
    "total_distance = 0\n",
    "# route[-1]\n",
    "\n",
    "def optimize_distance(city):\n",
    "    nth = 0\n",
    "    global total_distance\n",
    "    min_distance = distance_unique[distance_unique[\"origin_city\"] == city][\"distance_mile\"].min()\n",
    "    min_distance_city = distance_unique[distance_unique[\"distance_mile\"] == min_distance][\"destination_city\"].values[0]\n",
    "    while min_distance_city in route: \n",
    "        #take nth smallest distance to avoid duplicate route\n",
    "        nth += 1 \n",
    "        min_distance_row = distance_unique[distance_unique[\"origin_city\"] == city].nsmallest(nth, 'distance_mile', keep='last').iloc[nth-1,]\n",
    "        min_distance = min_distance_row[\"distance_mile\"]\n",
    "        min_distance_city = min_distance_row[\"destination_city\"]\n",
    "        \n",
    "    route.append(min_distance_city)\n",
    "    total_distance += min_distance    \n",
    "\n",
    "for i in range(0,49): \n",
    "    optimize_distance(route[-1])"
   ]
  },
  {
   "cell_type": "code",
   "execution_count": 23,
   "metadata": {},
   "outputs": [
    {
     "name": "stdout",
     "output_type": "stream",
     "text": [
      "['Sacramento', 'Carson City', 'Boise', 'Helena', 'Salt Lake City', 'Cheyenne', 'Denver', 'Santa Fe', 'Phoenix', 'Oklahoma City', 'Topeka', 'Lincoln', 'Des Monies', 'Jefferson City', 'Springfield', 'Indianapolis', 'Frankfort', 'Columbus', 'Charleston', 'Richmond', 'Annapolis', 'Dover', 'Trenton', 'Harrisburg', 'Albany', 'Hartford', 'Providence', 'Boston', 'Concord', 'Montpelier', 'Augusta', 'Lansing', 'Madison', 'St. Paul', 'Pierre', 'Bismarck', 'Little Rock', 'Jackson', 'Baton Rouge', 'Montgomery', 'Atlanta', 'Columbia', 'Raleigh', 'Nashville', 'Tallahassee', 'Austin', 'Salem', 'Olympia', 'Juneau', 'Honolulu']\n",
      "17121.199540632613\n"
     ]
    }
   ],
   "source": [
    "print(route)\n",
    "print(total_distance)"
   ]
  },
  {
   "cell_type": "code",
   "execution_count": 9,
   "metadata": {},
   "outputs": [
    {
     "name": "stdout",
     "output_type": "stream",
     "text": [
      "50\n",
      "50\n"
     ]
    }
   ],
   "source": [
    "print(len(route))\n",
    "print(len(set(route)))\n"
   ]
  },
  {
   "cell_type": "code",
   "execution_count": 10,
   "metadata": {},
   "outputs": [],
   "source": [
    "#add Sccramento as final destination\n",
    "route.append(route[0])\n",
    "\n",
    "#adding distance between Holonunu to Sacramento \n",
    "total_distance = total_distance + 2460.70"
   ]
  },
  {
   "cell_type": "code",
   "execution_count": 11,
   "metadata": {},
   "outputs": [
    {
     "data": {
      "text/plain": [
       "set()"
      ]
     },
     "execution_count": 11,
     "metadata": {},
     "output_type": "execute_result"
    }
   ],
   "source": [
    "capital_cities = set(list(capitals[\"capital\"]))\n",
    "capital_cities - set(route)"
   ]
  },
  {
   "cell_type": "code",
   "execution_count": 12,
   "metadata": {},
   "outputs": [
    {
     "name": "stdout",
     "output_type": "stream",
     "text": [
      "22912.724570901428\n",
      "['Sacramento', 'Boise', 'Salt Lake City', 'Cheyenne', 'Denver', 'Santa Fe', 'Phoenix', 'Carson City', 'Salem', 'Olympia', 'Helena', 'Bismarck', 'St. Paul', 'Des Monies', 'Lincoln', 'Jefferson City', 'Topeka', 'Oklahoma City', 'Little Rock', 'Baton Rouge', 'Montgomery', 'Atlanta', 'Columbia', 'Charleston', 'Frankfort', 'Columbus', 'Indianapolis', 'Springfield', 'Madison', 'Lansing', 'Harrisburg', 'Annapolis', 'Dover', 'Trenton', 'Hartford', 'Albany', 'Concord', 'Montpelier', 'Augusta', 'Boston', 'Richmond', 'Raleigh', 'Nashville', 'Jackson', 'Tallahassee', 'Austin', 'Pierre', 'Providence', 'Juneau', 'Honolulu', 'Sacramento']\n"
     ]
    }
   ],
   "source": [
    "print(total_distance)\n",
    "print(route)"
   ]
  },
  {
   "cell_type": "markdown",
   "metadata": {},
   "source": [
    "## Testing - To automize and find shortest distance with all 50 states as origin city"
   ]
  },
  {
   "cell_type": "code",
   "execution_count": 93,
   "metadata": {},
   "outputs": [],
   "source": [
    "capital_cities = list(capitals[\"capital\"])\n"
   ]
  },
  {
   "cell_type": "code",
   "execution_count": 94,
   "metadata": {},
   "outputs": [],
   "source": [
    "result_distances = []\n",
    "result_routes = []\n",
    "\n",
    "def get_route(start_city):\n",
    "    \n",
    "    route = [start_city]\n",
    "    total_distance = 0\n",
    "\n",
    "    def optimize_distance(city):\n",
    "        nth = 1\n",
    "        global total_distance\n",
    "        min_distance = distance_unique[distance_unique[\"origin_city\"] == city][\"distance_mile\"].min()\n",
    "        min_distance_city = distance_unique[distance_unique[\"distance_mile\"] == min_distance][\"destination_city\"].values[0]\n",
    "        while min_distance_city in route: \n",
    "            #take nth smallest distance to avoid duplicate route\n",
    "            nth += 1 \n",
    "            min_distance_row = distance_unique[distance_unique[\"origin_city\"] == city].nsmallest(nth, 'distance_mile', keep='last').iloc[nth-1,]\n",
    "            min_distance = min_distance_row[\"distance_mile\"]\n",
    "            min_distance_city = min_distance_row[\"destination_city\"]\n",
    "        \n",
    "        route.append(min_distance_city)\n",
    "        total_distance += min_distance    \n",
    "\n",
    "    for i in range(0,49): \n",
    "        optimize_distance(route[-1])\n",
    "    \n",
    "    #add Sccramento as final destination\n",
    "    route.append(route[0])\n",
    "\n",
    "    #adding distance between Holonunu to Sacramento \n",
    "    distance_end_origin = distance_unique[(distance_unique[\"origin_city\"] == start_city) & (distance_unique[\"destination_city\"] == route[-2])][\"distance_mile\"].values[0]\n",
    "    total_distance = total_distance + distance_end_origin\n",
    "    \n",
    "    result_distances.append(total_distance)\n",
    "    result_routes.append(route)\n",
    "        "
   ]
  },
  {
   "cell_type": "code",
   "execution_count": 99,
   "metadata": {},
   "outputs": [],
   "source": [
    "for item in capital_cities:\n",
    "    get_route(item)\n"
   ]
  },
  {
   "cell_type": "code",
   "execution_count": 98,
   "metadata": {},
   "outputs": [],
   "source": [
    "result_distances"
   ]
  },
  {
   "cell_type": "code",
   "execution_count": null,
   "metadata": {},
   "outputs": [],
   "source": []
  }
 ],
 "metadata": {
  "kernelspec": {
   "display_name": "Python 3",
   "language": "python",
   "name": "python3"
  },
  "language_info": {
   "codemirror_mode": {
    "name": "ipython",
    "version": 3
   },
   "file_extension": ".py",
   "mimetype": "text/x-python",
   "name": "python",
   "nbconvert_exporter": "python",
   "pygments_lexer": "ipython3",
   "version": "3.7.1"
  }
 },
 "nbformat": 4,
 "nbformat_minor": 2
}
